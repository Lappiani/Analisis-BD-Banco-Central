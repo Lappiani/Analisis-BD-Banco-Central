{
 "cells": [
  {
   "cell_type": "code",
   "execution_count": null,
   "id": "03806a31",
   "metadata": {},
   "outputs": [],
   "source": [
    "import bcchapi\n",
    "import numpy as np\n",
    "\n",
    "# Credenciales para ocupar la API del Banco Central\n",
    "siete = bcchapi.Siete(\"luca.appiani@security.cl\", \"Security.2024\")\n",
    "\n",
    "\n",
    "df_spc = siete.cuadro(\n",
    "  series=[\"F022.SPC.TPR.D090.NO.Z.D\", \"F022.SPC.TPR.D180.NO.Z.D\", \"F022.SPC.TPR.D360.NO.Z.D\",\n",
    "          \"F022.SPC.TIN.AN02.NO.Z.D\", \"F022.SPC.TIN.AN03.NO.Z.D\", \"F022.SPC.TIN.AN04.NO.Z.D\",\n",
    "          \"F022.SPC.TIN.AN05.NO.Z.D\", \"F022.SPC.TIN.AN10.NO.Z.D\"],\n",
    "  nombres=[\"SPC 90 ds\", \"SPC 180 ds\", \"SPC 1 año\",\n",
    "           \"SPC 2 años\", \"SPC 3 años\", \"SPC 4 años\",\n",
    "           \"SPC 5 años\"],\n",
    "  desde=\"2024-07-01\",\n",
    "  hasta=\"2025-07-31\",\n",
    "  frecuencia=\"D\",\n",
    "  observado={\"SPC 90 ds\":\"last\",\n",
    "             \"SPC 180 ds\":\"last\",\n",
    "             \"SPC 1 año\":\"last\",\n",
    "             \"SPC 2 años\":\"last\",\n",
    "             \"SPC 3 años\":\"last\",\n",
    "             \"SPC 4 años\":\"last\",\n",
    "             \"SPC 5 años\":\"last\"}\n",
    ")\n",
    "\n",
    "# Dropeamos los valores nulos\n",
    "df_spc = df_spc.dropna(how='all')\n"
   ]
  }
 ],
 "metadata": {
  "kernelspec": {
   "display_name": "base",
   "language": "python",
   "name": "python3"
  },
  "language_info": {
   "codemirror_mode": {
    "name": "ipython",
    "version": 3
   },
   "file_extension": ".py",
   "mimetype": "text/x-python",
   "name": "python",
   "nbconvert_exporter": "python",
   "pygments_lexer": "ipython3",
   "version": "3.10.9"
  }
 },
 "nbformat": 4,
 "nbformat_minor": 5
}
